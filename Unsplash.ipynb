{
 "cells": [
  {
   "cell_type": "code",
   "execution_count": 87,
   "id": "2a5c2d6d",
   "metadata": {},
   "outputs": [],
   "source": [
    "from cairosvg import svg2png\n",
    "from io import BytesIO\n",
    "from os import listdir\n",
    "from PIL import Image\n",
    "from subprocess import DEVNULL, STDOUT, check_call\n",
    "from tqdm import tqdm\n",
    "from skimage.metrics import mean_squared_error as mse\n",
    "import matplotlib.pyplot as plt \n",
    "import matplotlib\n",
    "import numpy as np\n",
    "import re"
   ]
  },
  {
   "cell_type": "code",
   "execution_count": 9,
   "id": "47000128",
   "metadata": {},
   "outputs": [],
   "source": [
    "matplotlib.use(\"pgf\")\n",
    "matplotlib.rcParams.update({\n",
    "    \"pgf.texsystem\": \"pdflatex\",\n",
    "    'font.family': 'serif',\n",
    "    'text.usetex': True,\n",
    "    'pgf.rcfonts': False,\n",
    "})"
   ]
  },
  {
   "cell_type": "code",
   "execution_count": 2,
   "id": "5852cc0a",
   "metadata": {},
   "outputs": [],
   "source": [
    "def svg_to_image(string, scale=1):\n",
    "    image = svg2png(bytestring=string, write_to=None, scale=scale)\n",
    "    return Image.open(BytesIO(image))"
   ]
  },
  {
   "cell_type": "code",
   "execution_count": 3,
   "id": "f7da76d9",
   "metadata": {},
   "outputs": [],
   "source": [
    "def atof(text):\n",
    "    try:\n",
    "        retval = float(text)\n",
    "    except ValueError:\n",
    "        retval = text\n",
    "    return retval\n",
    "\n",
    "def natural_keys(text):\n",
    "    return [atof(c) for c in re.split(r'[+-]?([0-9]+(?:[.][0-9]*)?|[.][0-9]+)', text)]"
   ]
  },
  {
   "cell_type": "code",
   "execution_count": 92,
   "id": "4de1df9b",
   "metadata": {},
   "outputs": [],
   "source": [
    "def calculate_loss(file, actor=\"actor.pkl\", corner_radius=True):\n",
    "    img = Image.open(file)\n",
    "    size = min(img.size)\n",
    "    img = img.crop((0, 0, size, size))\n",
    "    img.resize((128, 128)).save(\"unsplash_input.png\", \"PNG\")\n",
    "    img_scaled = np.array(img.resize((1024, 1024)))\n",
    "    \n",
    "    cr = ['--corner_radius'] if corner_radius else []\n",
    "    \n",
    "    check_call(\n",
    "        ['python3', 'baseline/test.py', '--max_step=250', '--actor=' + actor, '--img=unsplash_input.png'] + cr, \n",
    "        stdout=DEVNULL, \n",
    "        stderr=STDOUT\n",
    "    )\n",
    "    \n",
    "    directory = 'output/'\n",
    "    \n",
    "#     svg = open(directory + 'vector_generated624.svg').read().encode('utf-8')\n",
    "#     generated = svg_to_image(svg, scale=8).convert(\"RGBA\")\n",
    "    \n",
    "#     res = Image.new(\"RGB\", (1024, 1024), (255, 255, 255))\n",
    "#     res.paste(generated, mask=generated)\n",
    "#     res = np.asarray(res)\n",
    "    \n",
    "#     return ((res - img_scaled) ** 2).mean()\n",
    "\n",
    "    loss = []\n",
    "    for filename in sorted(listdir(directory), key=natural_keys):\n",
    "        if not filename.endswith('svg'):\n",
    "            continue\n",
    "\n",
    "        svg = open(directory + filename).read().encode('utf-8')\n",
    "        generated = svg_to_image(svg, scale=8).convert(\"RGBA\")\n",
    "\n",
    "        res = Image.new(\"RGB\", (1024, 1024), (255, 255, 255))\n",
    "        res.paste(generated, mask=generated)\n",
    "        res = np.asarray(res)\n",
    "\n",
    "        loss.append(mse(res, img_scaled))\n",
    "    return np.array(loss)"
   ]
  },
  {
   "cell_type": "code",
   "execution_count": 93,
   "id": "bf13451c",
   "metadata": {},
   "outputs": [
    {
     "name": "stderr",
     "output_type": "stream",
     "text": [
      "dirs: 100%|███████████████████████████████████████████████████████████████████████████████████████████████████████████████████| 46/46 [1:54:48<00:00, 149.76s/it]\n"
     ]
    }
   ],
   "source": [
    "loss = []\n",
    "for filename in tqdm(listdir('unsplash/'), desc='dirs'):\n",
    "    if not filename.endswith('jpg'):\n",
    "        continue\n",
    "    \n",
    "    loss.append(calculate_loss('unsplash/' + filename))"
   ]
  },
  {
   "cell_type": "code",
   "execution_count": 94,
   "id": "72ff1d3a",
   "metadata": {},
   "outputs": [
    {
     "name": "stderr",
     "output_type": "stream",
     "text": [
      "dirs: 100%|███████████████████████████████████████████████████████████████████████████████████████████████████████████████████| 46/46 [1:44:51<00:00, 136.77s/it]\n"
     ]
    }
   ],
   "source": [
    "loss_a = []\n",
    "for filename in tqdm(listdir('unsplash/'), desc='dirs'):\n",
    "    if not filen came.endswith('jpg'):\n",
    "        continue\n",
    "    \n",
    "    loss_a.append(calculate_loss('unsplash/' + filename, \"actor_a.pkl\", False))"
   ]
  },
  {
   "cell_type": "code",
   "execution_count": 102,
   "id": "bdc30c4c",
   "metadata": {},
   "outputs": [
    {
     "name": "stdout",
     "output_type": "stream",
     "text": [
      "672.2318735053574\n",
      "855.7928539289944\n"
     ]
    }
   ],
   "source": [
    "print(np.mean(loss, axis=0)[-1])\n",
    "print(np.mean(loss_a, axis=0)[-1])"
   ]
  },
  {
   "cell_type": "code",
   "execution_count": 97,
   "id": "b51ccd79",
   "metadata": {},
   "outputs": [
    {
     "data": {
      "image/png": "[encoded data removed]",
      "text/plain": [
       "<Figure size 230.4x187.2 with 1 Axes>"
      ]
     },
     "metadata": {
      "needs_background": "light"
     },
     "output_type": "display_data"
    }
   ],
   "source": [
    "loss = np.array(loss)\n",
    "loss_a = np.array(loss_a)\n",
    "\n",
    "plt.figure(figsize=(3.2, 2.6))\n",
    "\n",
    "plt.ylabel(\"MSE\")\n",
    "plt.xlabel(\"Steps\")\n",
    "\n",
    "plt.plot(loss_a.mean(axis=0), label='Brush A')\n",
    "plt.plot(loss.mean(axis=0), label='Brush B')\n",
    "\n",
    "plt.legend()\n",
    "plt.yscale('log')\n",
    "plt.savefig('photography_x.pgf', bbox_inches='tight')"
   ]
  },
  {
   "cell_type": "code",
   "execution_count": null,
   "id": "6e953552",
   "metadata": {},
   "outputs": [],
   "source": [
    "plt.savefig('photos.pgf')"
   ]
  },
  {
   "cell_type": "code",
   "execution_count": 74,
   "id": "52caedaa",
   "metadata": {},
   "outputs": [
    {
     "data": {
      "image/png": "[encoded data removed]",
      "text/plain": [
       "<Figure size 230.4x187.2 with 1 Axes>"
      ]
     },
     "metadata": {
      "needs_background": "light"
     },
     "output_type": "display_data"
    }
   ],
   "source": [
    "import json\n",
    "\n",
    "f = open('potrace_color.json', \"r\")\n",
    "\n",
    "loss2 = np.array(json.loads(f.read()))\n",
    "x = np.linspace(3, 32, 29)\n",
    "\n",
    "plt.figure(figsize=(3.2, 2.6))\n",
    "\n",
    "plt.plot(x, loss2.mean(axis=0))\n",
    "plt.ylabel(\"MSE\")\n",
    "plt.xlabel(\"$N$ (Number of colors)\")\n",
    "plt.savefig('potrace_color.pgf', bbox_inches='tight')"
   ]
  },
  {
   "cell_type": "code",
   "execution_count": null,
   "id": "782e6fcd",
   "metadata": {},
   "outputs": [],
   "source": []
  }
 ],
 "metadata": {
  "kernelspec": {
   "display_name": "Python 3 (ipykernel)",
   "language": "python",
   "name": "python3"
  },
  "language_info": {
   "codemirror_mode": {
    "name": "ipython",
    "version": 3
   },
   "file_extension": ".py",
   "mimetype": "text/x-python",
   "name": "python",
   "nbconvert_exporter": "python",
   "pygments_lexer": "ipython3",
   "version": "3.9.13"
  }
 },
 "nbformat": 4,
 "nbformat_minor": 5
}
