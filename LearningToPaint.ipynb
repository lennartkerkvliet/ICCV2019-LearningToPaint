{
 "cells": [
  {
   "cell_type": "code",
   "execution_count": 28,
   "metadata": {
    "colab": {},
    "colab_type": "code",
    "id": "brX4ZlQoc9ss"
   },
   "outputs": [
    {
     "name": "stdout",
     "output_type": "stream",
     "text": [
      "mkdir: output: File exists\n",
      "canvas step 0, L2Loss = 0.13174492120742798\n",
      "canvas step 1, L2Loss = 0.05645575746893883\n",
      "canvas step 2, L2Loss = 0.033296823501586914\n",
      "canvas step 3, L2Loss = 0.026551373302936554\n",
      "canvas step 4, L2Loss = 0.0221798624843359\n",
      "canvas step 5, L2Loss = 0.01945514976978302\n",
      "canvas step 6, L2Loss = 0.016423813998699188\n",
      "canvas step 7, L2Loss = 0.014479990117251873\n",
      "canvas step 8, L2Loss = 0.014059427194297314\n",
      "canvas step 9, L2Loss = 0.013589650392532349\n"
     ]
    }
   ],
   "source": [
    "!python3 baseline/test.py --max_step=10 --actor=actor.pkl --renderer=renderer_b.pkl --img=image/shapes.png"
   ]
  },
  {
   "cell_type": "code",
   "execution_count": 20,
   "metadata": {
    "colab": {},
    "colab_type": "code",
    "id": "tLM4U6F0_yjV"
   },
   "outputs": [
    {
     "name": "stdout",
     "output_type": "stream",
     "text": [
      "ffmpeg version 5.0.1 Copyright (c) 2000-2022 the FFmpeg developers\n",
      "  built with Apple clang version 13.1.6 (clang-1316.0.21.2)\n",
      "  configuration: --prefix=/opt/homebrew/Cellar/ffmpeg/5.0.1 --enable-shared --enable-pthreads --enable-version3 --cc=clang --host-cflags= --host-ldflags= --enable-ffplay --enable-gnutls --enable-gpl --enable-libaom --enable-libbluray --enable-libdav1d --enable-libmp3lame --enable-libopus --enable-librav1e --enable-librist --enable-librubberband --enable-libsnappy --enable-libsrt --enable-libtesseract --enable-libtheora --enable-libvidstab --enable-libvmaf --enable-libvorbis --enable-libvpx --enable-libwebp --enable-libx264 --enable-libx265 --enable-libxml2 --enable-libxvid --enable-lzma --enable-libfontconfig --enable-libfreetype --enable-frei0r --enable-libass --enable-libopencore-amrnb --enable-libopencore-amrwb --enable-libopenjpeg --enable-libspeex --enable-libsoxr --enable-libzmq --enable-libzimg --disable-libjack --disable-indev=jack --enable-videotoolbox --enable-neon\n",
      "  libavutil      57. 17.100 / 57. 17.100\n",
      "  libavcodec     59. 18.100 / 59. 18.100\n",
      "  libavformat    59. 16.100 / 59. 16.100\n",
      "  libavdevice    59.  4.100 / 59.  4.100\n",
      "  libavfilter     8. 24.100 /  8. 24.100\n",
      "  libswscale      6.  4.100 /  6.  4.100\n",
      "  libswresample   4.  3.100 /  4.  3.100\n",
      "  libpostproc    56.  3.100 / 56.  3.100\n",
      "\u001b[0;33mTrailing option(s) found in the command: may be ignored.\n",
      "\u001b[0mInput #0, image2, from 'output/generated%d.png':\n",
      "  Duration: 00:00:16.67, start: 0.000000, bitrate: N/A\n",
      "  Stream #0:0: Video: png, rgb24(pc), 128x128, 30 fps, 30 tbr, 30 tbn\n",
      "Stream mapping:\n",
      "  Stream #0:0 -> #0:0 (png (native) -> h264 (libx264))\n",
      "Press [q] to stop, [?] for help\n",
      "\u001b[1;36m[libx264 @ 0x1317071d0] \u001b[0musing cpu capabilities: ARMv8 NEON\n",
      "\u001b[1;36m[libx264 @ 0x1317071d0] \u001b[0mprofile High, level 3.0, 4:2:0, 8-bit\n",
      "\u001b[1;36m[libx264 @ 0x1317071d0] \u001b[0m264 - core 163 r3060 5db6aa6 - H.264/MPEG-4 AVC codec - Copyleft 2003-2021 - http://www.videolan.org/x264.html - options: cabac=1 ref=3 deblock=1:0:0 analyse=0x3:0x113 me=hex subme=7 psy=1 psy_rd=1.00:0.00 mixed_ref=1 me_range=16 chroma_me=1 trellis=1 8x8dct=1 cqm=0 deadzone=21,11 fast_pskip=1 chroma_qp_offset=-2 threads=15 lookahead_threads=2 sliced_threads=0 nr=0 decimate=1 interlaced=0 bluray_compat=0 constrained_intra=0 bframes=3 b_pyramid=2 b_adapt=1 b_bias=0 direct=1 weightb=1 open_gop=0 weightp=2 keyint=250 keyint_min=25 scenecut=40 intra_refresh=0 rc_lookahead=40 rc=crf mbtree=1 crf=23.0 qcomp=0.60 qpmin=0 qpmax=69 qpstep=4 ip_ratio=1.40 aq=1:1.00\n",
      "Output #0, mp4, to 'video.mp4':\n",
      "  Metadata:\n",
      "    encoder         : Lavf59.16.100\n",
      "  Stream #0:0: Video: h264 (avc1 / 0x31637661), yuv420p(tv, progressive), 512x512, q=2-31, 30 fps, 15360 tbn\n",
      "    Metadata:\n",
      "      encoder         : Lavc59.18.100 libx264\n",
      "    Side data:\n",
      "      cpb: bitrate max/min/avg: 0/0/0 buffer size: 0 vbv_delay: N/A\n",
      "frame=  500 fps=0.0 q=-1.0 Lsize=      88kB time=00:00:16.56 bitrate=  43.6kbits/s speed=41.1x    \n",
      "video:81kB audio:0kB subtitle:0kB other streams:0kB global headers:0kB muxing overhead: 8.204618%\n",
      "\u001b[1;36m[libx264 @ 0x1317071d0] \u001b[0mframe I:2     Avg QP:14.34  size:  5978\n",
      "\u001b[1;36m[libx264 @ 0x1317071d0] \u001b[0mframe P:127   Avg QP:16.59  size:   394\n",
      "\u001b[1;36m[libx264 @ 0x1317071d0] \u001b[0mframe B:371   Avg QP:15.75  size:    56\n",
      "\u001b[1;36m[libx264 @ 0x1317071d0] \u001b[0mconsecutive B-frames:  1.0%  0.0%  0.6% 98.4%\n",
      "\u001b[1;36m[libx264 @ 0x1317071d0] \u001b[0mmb I  I16..4: 23.8% 70.9%  5.2%\n",
      "\u001b[1;36m[libx264 @ 0x1317071d0] \u001b[0mmb P  I16..4:  0.8%  3.1%  0.1%  P16..4:  3.9%  0.9%  0.4%  0.0%  0.0%    skip:90.8%\n",
      "\u001b[1;36m[libx264 @ 0x1317071d0] \u001b[0mmb B  I16..4:  0.0%  0.0%  0.0%  B16..8:  2.1%  0.0%  0.0%  direct: 0.5%  skip:97.4%  L0:44.8% L1:55.0% BI: 0.1%\n",
      "\u001b[1;36m[libx264 @ 0x1317071d0] \u001b[0m8x8 transform intra:76.1% inter:96.1%\n",
      "\u001b[1;36m[libx264 @ 0x1317071d0] \u001b[0mcoded y,uvDC,uvAC intra: 11.1% 36.1% 23.8% inter: 0.2% 1.4% 0.1%\n",
      "\u001b[1;36m[libx264 @ 0x1317071d0] \u001b[0mi16 v,h,dc,p: 62% 24%  8%  7%\n",
      "\u001b[1;36m[libx264 @ 0x1317071d0] \u001b[0mi8 v,h,dc,ddl,ddr,vr,hd,vl,hu: 35% 21% 32%  2%  3%  2%  3%  1%  1%\n",
      "\u001b[1;36m[libx264 @ 0x1317071d0] \u001b[0mi4 v,h,dc,ddl,ddr,vr,hd,vl,hu: 29% 23% 29%  3%  6%  3%  4%  1%  2%\n",
      "\u001b[1;36m[libx264 @ 0x1317071d0] \u001b[0mi8c dc,h,v,p: 64% 17% 14%  4%\n",
      "\u001b[1;36m[libx264 @ 0x1317071d0] \u001b[0mWeighted P-Frames: Y:0.0% UV:0.0%\n",
      "\u001b[1;36m[libx264 @ 0x1317071d0] \u001b[0mref P L0: 76.9%  8.9% 10.4%  3.8%\n",
      "\u001b[1;36m[libx264 @ 0x1317071d0] \u001b[0mref B L0: 78.5% 20.7%  0.8%\n",
      "\u001b[1;36m[libx264 @ 0x1317071d0] \u001b[0mref B L1: 98.1%  1.9%\n",
      "\u001b[1;36m[libx264 @ 0x1317071d0] \u001b[0mkb/s:39.73\n"
     ]
    }
   ],
   "source": [
    "!ffmpeg -r 30 -f image2 -i output/generated%d.png -s 512x512 -c:v libx264 -pix_fmt yuv420p video.mp4 -q:v 0 -q:a 0"
   ]
  },
  {
   "cell_type": "code",
   "execution_count": 3,
   "metadata": {
    "colab": {},
    "colab_type": "code",
    "id": "ekY7HcBeh8zl"
   },
   "outputs": [
    {
     "ename": "ValueError",
     "evalue": "The duration of video video.mp4 (66.7) exceeds the 'maxduration' attribute. You can increase 'maxduration', by passing 'maxduration' parameterto ipython_display function.But note that embedding large videos may take all the memory away !",
     "output_type": "error",
     "traceback": [
      "\u001b[0;31m---------------------------------------------------------------------------\u001b[0m",
      "\u001b[0;31mValueError\u001b[0m                                Traceback (most recent call last)",
      "Input \u001b[0;32mIn [3]\u001b[0m, in \u001b[0;36m<cell line: 3>\u001b[0;34m()\u001b[0m\n\u001b[1;32m      1\u001b[0m \u001b[38;5;28;01mfrom\u001b[39;00m \u001b[38;5;21;01mIPython\u001b[39;00m\u001b[38;5;21;01m.\u001b[39;00m\u001b[38;5;21;01mdisplay\u001b[39;00m \u001b[38;5;28;01mimport\u001b[39;00m display, Image\n\u001b[1;32m      2\u001b[0m \u001b[38;5;28;01mimport\u001b[39;00m \u001b[38;5;21;01mmoviepy\u001b[39;00m\u001b[38;5;21;01m.\u001b[39;00m\u001b[38;5;21;01meditor\u001b[39;00m \u001b[38;5;28;01mas\u001b[39;00m \u001b[38;5;21;01mmpy\u001b[39;00m\n\u001b[0;32m----> 3\u001b[0m display(\u001b[43mmpy\u001b[49m\u001b[38;5;241;43m.\u001b[39;49m\u001b[43mipython_display\u001b[49m\u001b[43m(\u001b[49m\u001b[38;5;124;43m'\u001b[39;49m\u001b[38;5;124;43mvideo.mp4\u001b[39;49m\u001b[38;5;124;43m'\u001b[39;49m\u001b[43m,\u001b[49m\u001b[43m \u001b[49m\u001b[43mheight\u001b[49m\u001b[38;5;241;43m=\u001b[39;49m\u001b[38;5;241;43m256\u001b[39;49m\u001b[43m,\u001b[49m\u001b[43m \u001b[49m\u001b[43mmax_duration\u001b[49m\u001b[38;5;241;43m=\u001b[39;49m\u001b[38;5;241;43m100.\u001b[39;49m\u001b[43m)\u001b[49m)\n\u001b[1;32m      4\u001b[0m display(Image(\u001b[38;5;124m'\u001b[39m\u001b[38;5;124moutput/generated399.png\u001b[39m\u001b[38;5;124m'\u001b[39m))\n",
      "File \u001b[0;32m~/Student/ICCV2019-LearningToPaint/venv/lib/python3.9/site-packages/moviepy/video/io/html_tools.py:220\u001b[0m, in \u001b[0;36mipython_display\u001b[0;34m(clip, filetype, maxduration, t, fps, rd_kwargs, center, **html_kwargs)\u001b[0m\n\u001b[1;32m    217\u001b[0m \u001b[38;5;28;01mif\u001b[39;00m t \u001b[38;5;129;01mis\u001b[39;00m \u001b[38;5;129;01mnot\u001b[39;00m \u001b[38;5;28;01mNone\u001b[39;00m:\n\u001b[1;32m    218\u001b[0m     clip \u001b[38;5;241m=\u001b[39m clip\u001b[38;5;241m.\u001b[39mto_ImageClip(t)\n\u001b[0;32m--> 220\u001b[0m \u001b[38;5;28;01mreturn\u001b[39;00m HTML2(\u001b[43mhtml_embed\u001b[49m\u001b[43m(\u001b[49m\u001b[43mclip\u001b[49m\u001b[43m,\u001b[49m\u001b[43m \u001b[49m\u001b[43mfiletype\u001b[49m\u001b[38;5;241;43m=\u001b[39;49m\u001b[43mfiletype\u001b[49m\u001b[43m,\u001b[49m\u001b[43m \u001b[49m\u001b[43mmaxduration\u001b[49m\u001b[38;5;241;43m=\u001b[39;49m\u001b[43mmaxduration\u001b[49m\u001b[43m,\u001b[49m\n\u001b[1;32m    221\u001b[0m \u001b[43m            \u001b[49m\u001b[43mcenter\u001b[49m\u001b[38;5;241;43m=\u001b[39;49m\u001b[43mcenter\u001b[49m\u001b[43m,\u001b[49m\u001b[43m \u001b[49m\u001b[43mrd_kwargs\u001b[49m\u001b[38;5;241;43m=\u001b[39;49m\u001b[43mrd_kwargs\u001b[49m\u001b[43m,\u001b[49m\u001b[43m \u001b[49m\u001b[38;5;241;43m*\u001b[39;49m\u001b[38;5;241;43m*\u001b[39;49m\u001b[43mhtml_kwargs\u001b[49m\u001b[43m)\u001b[49m)\n",
      "File \u001b[0;32m~/Student/ICCV2019-LearningToPaint/venv/lib/python3.9/site-packages/moviepy/video/io/html_tools.py:142\u001b[0m, in \u001b[0;36mhtml_embed\u001b[0;34m(clip, filetype, maxduration, rd_kwargs, center, **html_kwargs)\u001b[0m\n\u001b[1;32m    140\u001b[0m     duration \u001b[38;5;241m=\u001b[39m ffmpeg_parse_infos(filename)[\u001b[38;5;124m'\u001b[39m\u001b[38;5;124mduration\u001b[39m\u001b[38;5;124m'\u001b[39m]\n\u001b[1;32m    141\u001b[0m     \u001b[38;5;28;01mif\u001b[39;00m duration \u001b[38;5;241m>\u001b[39m maxduration:\n\u001b[0;32m--> 142\u001b[0m         \u001b[38;5;28;01mraise\u001b[39;00m \u001b[38;5;167;01mValueError\u001b[39;00m(\u001b[38;5;124m\"\u001b[39m\u001b[38;5;124mThe duration of video \u001b[39m\u001b[38;5;132;01m%s\u001b[39;00m\u001b[38;5;124m (\u001b[39m\u001b[38;5;132;01m%.1f\u001b[39;00m\u001b[38;5;124m) exceeds the \u001b[39m\u001b[38;5;124m'\u001b[39m\u001b[38;5;124mmaxduration\u001b[39m\u001b[38;5;124m'\u001b[39m\u001b[38;5;124m \u001b[39m\u001b[38;5;124m\"\u001b[39m\u001b[38;5;241m%\u001b[39m(filename, duration)\u001b[38;5;241m+\u001b[39m\n\u001b[1;32m    143\u001b[0m                          \u001b[38;5;124m\"\u001b[39m\u001b[38;5;124mattribute. You can increase \u001b[39m\u001b[38;5;124m'\u001b[39m\u001b[38;5;124mmaxduration\u001b[39m\u001b[38;5;124m'\u001b[39m\u001b[38;5;124m, by passing \u001b[39m\u001b[38;5;124m'\u001b[39m\u001b[38;5;124mmaxduration\u001b[39m\u001b[38;5;124m'\u001b[39m\u001b[38;5;124m parameter\u001b[39m\u001b[38;5;124m\"\u001b[39m\n\u001b[1;32m    144\u001b[0m                          \u001b[38;5;124m\"\u001b[39m\u001b[38;5;124mto ipython_display function.\u001b[39m\u001b[38;5;124m\"\u001b[39m\n\u001b[1;32m    145\u001b[0m                          \u001b[38;5;124m\"\u001b[39m\u001b[38;5;124mBut note that embedding large videos may take all the memory away !\u001b[39m\u001b[38;5;124m\"\u001b[39m)\n\u001b[1;32m    147\u001b[0m \u001b[38;5;28;01mwith\u001b[39;00m \u001b[38;5;28mopen\u001b[39m(filename, \u001b[38;5;124m\"\u001b[39m\u001b[38;5;124mrb\u001b[39m\u001b[38;5;124m\"\u001b[39m) \u001b[38;5;28;01mas\u001b[39;00m f:\n\u001b[1;32m    148\u001b[0m     data\u001b[38;5;241m=\u001b[39m b64encode(f\u001b[38;5;241m.\u001b[39mread())\u001b[38;5;241m.\u001b[39mdecode(\u001b[38;5;124m\"\u001b[39m\u001b[38;5;124mutf-8\u001b[39m\u001b[38;5;124m\"\u001b[39m)\n",
      "\u001b[0;31mValueError\u001b[0m: The duration of video video.mp4 (66.7) exceeds the 'maxduration' attribute. You can increase 'maxduration', by passing 'maxduration' parameterto ipython_display function.But note that embedding large videos may take all the memory away !"
     ]
    }
   ],
   "source": [
    "from IPython.display import display, Image\n",
    "import moviepy.editor as mpy\n",
    "display(mpy.ipython_display('video.mp4', height=256, max_duration=100.))\n",
    "display(Image('output/generated399.png'))"
   ]
  },
  {
   "cell_type": "code",
   "execution_count": 5,
   "metadata": {},
   "outputs": [],
   "source": [
    "import torch\n",
    "\n",
    "width = 128\n",
    "canvas = torch.zeros([1, 3, width, width])\n",
    "\n",
    "x = torch.tensor([[8.3360e-02, 4.2574e-01, 1.1142e-01, 9.8395e-01, 4.6122e-01, 5.2032e-02,\n",
    "         9.9376e-01, 8.9807e-01, 4.0128e-01, 6.2419e-01, 6.0177e-01, 6.8766e-01,\n",
    "         7.3925e-01, 5.0657e-01, 5.1957e-01, 9.0552e-01, 9.9895e-01, 9.9976e-01,\n",
    "         2.9694e-01, 9.9532e-01, 5.9672e-01, 1.0000e+00, 6.4795e-01, 6.2063e-01,\n",
    "         6.8359e-01, 8.8618e-01, 9.4604e-01, 7.9644e-01, 9.9980e-01, 3.3091e-05,\n",
    "         8.9011e-02, 7.8174e-01, 9.9111e-01, 9.8194e-01, 2.5966e-01, 5.4206e-01,\n",
    "         3.4093e-01, 4.2826e-01, 5.1584e-01, 2.0927e-01, 4.6882e-01, 3.9847e-05,\n",
    "         9.9999e-01, 6.6341e-01, 1.8134e-01, 4.1167e-01, 1.9733e-01, 7.8683e-01,\n",
    "         6.0166e-01, 1.7535e-01, 2.5377e-01, 3.4096e-01, 7.5044e-01, 8.3815e-01,\n",
    "         3.6985e-01, 7.7639e-01, 4.2308e-01, 7.6167e-01, 4.5775e-01, 5.4750e-01,\n",
    "         2.2924e-01, 2.8505e-01, 3.5458e-01, 4.0749e-01, 5.0173e-01]])"
   ]
  },
  {
   "cell_type": "code",
   "execution_count": 6,
   "metadata": {},
   "outputs": [],
   "source": [
    "from baseline_modelfree.Renderer.bezierpath import BezierPath\n",
    "import numpy as np\n",
    "\n",
    "x = x.view(-1, 10 + 3)\n",
    "paths = np.array([BezierPath(f, width=width).draw() for f in x])\n",
    "    \n",
    "stroke = 1 - torch.from_numpy(paths)\n",
    "stroke = stroke.view(-1, width, width, 1)\n",
    "color_stroke = stroke * x[:, -3:].view(-1, 1, 1, 3)\n",
    "stroke = stroke.permute(0, 3, 1, 2)\n",
    "color_stroke = color_stroke.permute(0, 3, 1, 2)\n",
    "stroke = stroke.view(-1, 5, 1, width, width)\n",
    "color_stroke = color_stroke.view(-1, 5, 3, width, width)\n",
    "\n",
    "for i in range(5):\n",
    "    canvas = canvas * (1 - stroke[:, i]) + color_stroke[:, i]"
   ]
  },
  {
   "cell_type": "code",
   "execution_count": 7,
   "metadata": {},
   "outputs": [
    {
     "name": "stdout",
     "output_type": "stream",
     "text": [
      "torch.Size([128, 128, 1])\n",
      "tensor([0.6018, 0.6877, 0.7393])\n",
      "torch.Size([128, 128, 3])\n",
      "torch.Size([1, 128, 128])\n",
      "torch.Size([3, 128, 128])\n"
     ]
    }
   ],
   "source": [
    "from baseline_modelfree.Renderer.bezierpath import BezierPath\n",
    "import numpy as np\n",
    "\n",
    "x = x.view(-1, 10 + 3)[0]\n",
    "path = BezierPath(x, width=width).draw()\n",
    "    \n",
    "stroke = 1 - torch.from_numpy(path)\n",
    "stroke = stroke.view(width, width, 1)\n",
    "color = torch.tensor([1, 0.5, 0.5])\n",
    "\n",
    "print(stroke.shape)\n",
    "\n",
    "print(x[-3:])\n",
    "color_stroke = stroke * color.view(1, 1, 3)\n",
    "print(color_stroke.shape)\n",
    "stroke = stroke.permute(2, 0, 1)\n",
    "print(stroke.shape)\n",
    "color_stroke = color_stroke.permute(2, 0, 1)\n",
    "print(color_stroke.shape)\n",
    "stroke = stroke.view(-1, 1, width, width)\n",
    "color_stroke = color_stroke.view(-1, 3, width, width)\n",
    "\n",
    "canvas = canvas * (1 - stroke) + color_stroke"
   ]
  },
  {
   "cell_type": "code",
   "execution_count": 8,
   "metadata": {},
   "outputs": [
    {
     "data": {
      "text/plain": [
       "<matplotlib.image.AxesImage at 0x1461bd4f0>"
      ]
     },
     "execution_count": 8,
     "metadata": {},
     "output_type": "execute_result"
    },
    {
     "data": {
      "image/png": "[encoded data removed]",
      "text/plain": [
       "<Figure size 432x288 with 1 Axes>"
      ]
     },
     "metadata": {
      "needs_background": "light"
     },
     "output_type": "display_data"
    }
   ],
   "source": [
    "import matplotlib.pyplot as plt\n",
    "import cv2\n",
    "\n",
    "output = np.transpose(canvas.numpy(), (0, 2, 3, 1))\n",
    "output = (output[0] * 255).astype('uint8')\n",
    "\n",
    "image = cv2.cvtColor(output, cv2.COLOR_BGR2RGB)\n",
    "plt.imshow(image)"
   ]
  },
  {
   "cell_type": "code",
   "execution_count": 9,
   "metadata": {},
   "outputs": [
    {
     "name": "stdout",
     "output_type": "stream",
     "text": [
      "[[1.  1.  1.  0.4]\n",
      " [1.  1.  1.  0.4]\n",
      " [1.  1.  1.  0.4]\n",
      " ...\n",
      " [0.  0.  0.  0. ]\n",
      " [0.  0.  0.  0. ]\n",
      " [0.  0.  0.  0. ]]\n"
     ]
    },
    {
     "data": {
      "text/plain": [
       "<matplotlib.image.AxesImage at 0x1462c6160>"
      ]
     },
     "execution_count": 9,
     "metadata": {},
     "output_type": "execute_result"
    },
    {
     "data": {
      "image/png": "[encoded data removed]",
      "text/plain": [
       "<Figure size 432x288 with 1 Axes>"
      ]
     },
     "metadata": {
      "needs_background": "light"
     },
     "output_type": "display_data"
    }
   ],
   "source": [
    "from cairosvg import svg2png\n",
    "\n",
    "svgstring = \"<svg viewBox=\\\"0 0 {} {}\\\" xmlns=\\\"http://www.w3.org/2000/svg\\\">\".format(width * 2, width * 2)\n",
    "svgstring += \"<circle cx=\\\"{}\\\" cy=\\\"{}\\\" r=\\\"{}\\\" fill=\\\"rgb(255,255,255)\\\" fill-opacity=\\\"{}\\\"/>\".format(80, 20, 100, 0.4)\n",
    "svgstring += \"</svg>\"\n",
    "\n",
    "image = svg2png(bytestring=svgstring, write_to=None)\n",
    "nparr = np.frombuffer(image, np.uint8)\n",
    "canvas = cv2.imdecode(nparr, cv2.IMREAD_UNCHANGED)\n",
    "\n",
    "adjusted = canvas.astype('float32') / 255\n",
    "print(adjusted[1])\n",
    "img = 1 - cv2.resize(adjusted[:,:,3], dsize=(width, width))\n",
    "\n",
    "plt.imshow(img)"
   ]
  },
  {
   "cell_type": "code",
   "execution_count": 16,
   "metadata": {},
   "outputs": [
    {
     "name": "stdout",
     "output_type": "stream",
     "text": [
      "[0.6 0.6 0.6 0.6 0.6 0.6 0.6 0.6 0.6 0.6 0.6 0.6 0.6 0.6 0.6 0.6 0.6 0.6\n",
      " 0.6 0.6 0.6 0.6 0.6 0.6 0.6 0.6 0.6 0.6 0.6 0.6 0.6 0.6 0.6 0.6 0.6 0.6\n",
      " 0.6 0.6 0.6 0.6 0.6 0.6 0.6 0.6 0.6 0.6 0.6 0.6 0.6 0.6 0.6 0.6 0.6 0.6\n",
      " 0.6 0.6 0.6 0.6 0.6 0.6 0.6 0.6 0.6 0.6 0.6 0.6 0.6 0.6 0.6 0.8 1.  1.\n",
      " 1.  1.  1.  1.  1.  1.  1.  1.  1.  1.  1.  1.  1.  1.  1.  1.  1.  1.\n",
      " 1.  1.  1.  1.  1.  1.  1.  1.  1.  1.  1.  1.  1.  1.  1.  1.  1.  1.\n",
      " 1.  1.  1.  1.  1.  1.  1.  1.  1.  1.  1.  1.  1.  1.  1.  1.  1.  1.\n",
      " 1.  1. ]\n"
     ]
    },
    {
     "data": {
      "text/plain": [
       "<matplotlib.image.AxesImage at 0x1404f45b0>"
      ]
     },
     "execution_count": 16,
     "metadata": {},
     "output_type": "execute_result"
    },
    {
     "data": {
      "image/png": "[encoded data removed]",
      "text/plain": [
       "<Figure size 432x288 with 1 Axes>"
      ]
     },
     "metadata": {
      "needs_background": "light"
     },
     "output_type": "display_data"
    }
   ],
   "source": [
    "canvas = np.zeros([width * 2, width * 2, 4]).astype('float32')\n",
    "cv2.circle(canvas, (40, 20), 100, (1, 1, 1, 0.4), -1)\n",
    "\n",
    "adjusted = canvas[:,:,3]\n",
    "img = 1 - cv2.resize(adjusted, dsize=(width, width))\n",
    "print(img[1])\n",
    "\n",
    "plt.imshow(img)"
   ]
  },
  {
   "cell_type": "markdown",
   "metadata": {},
   "source": [
    "Training"
   ]
  },
  {
   "cell_type": "code",
   "execution_count": 0,
   "metadata": {
    "colab": {},
    "colab_type": "code",
    "id": "_-p0NhqyTqO_"
   },
   "outputs": [],
   "source": [
    "!mkdir data"
   ]
  },
  {
   "cell_type": "code",
   "execution_count": 0,
   "metadata": {
    "colab": {},
    "colab_type": "code",
    "id": "XXAV9RwkTwKh"
   },
   "outputs": [],
   "source": [
    "cd data"
   ]
  },
  {
   "cell_type": "code",
   "execution_count": 0,
   "metadata": {
    "colab": {},
    "colab_type": "code",
    "id": "IzZUVjdrET2G"
   },
   "outputs": [],
   "source": [
    "!gdown https://drive.google.com/open?id=0B7EVK8r0v71pZjFTYXZWM3FlRnM"
   ]
  },
  {
   "cell_type": "code",
   "execution_count": 0,
   "metadata": {
    "colab": {},
    "colab_type": "code",
    "id": "zgguAW3eETVd"
   },
   "outputs": [],
   "source": [
    "!unzip img_align_celeba.zip"
   ]
  },
  {
   "cell_type": "code",
   "execution_count": 0,
   "metadata": {
    "colab": {},
    "colab_type": "code",
    "id": "XBH--DY-sK8V"
   },
   "outputs": [],
   "source": [
    "!rm img_align_celeba.zip"
   ]
  },
  {
   "cell_type": "code",
   "execution_count": 0,
   "metadata": {
    "colab": {},
    "colab_type": "code",
    "id": "u6mVpjvBvzrb"
   },
   "outputs": [],
   "source": [
    "cd .."
   ]
  },
  {
   "cell_type": "code",
   "execution_count": 0,
   "metadata": {
    "colab": {},
    "colab_type": "code",
    "id": "-PYJVt8pc6BP"
   },
   "outputs": [],
   "source": [
    "!python3 baseline/train_renderer.py"
   ]
  },
  {
   "cell_type": "code",
   "execution_count": 0,
   "metadata": {
    "colab": {},
    "colab_type": "code",
    "id": "VZWjNmD23gKm"
   },
   "outputs": [],
   "source": [
    "!pip install tensorboardX"
   ]
  },
  {
   "cell_type": "code",
   "execution_count": 0,
   "metadata": {
    "colab": {},
    "colab_type": "code",
    "id": "ehnzhWn9GG4I"
   },
   "outputs": [],
   "source": [
    "%%writefile baseline/env.py\n",
    "import sys\n",
    "import json\n",
    "import torch\n",
    "import numpy as np\n",
    "import argparse\n",
    "import torchvision.transforms as transforms\n",
    "import cv2\n",
    "from DRL.ddpg import decode\n",
    "from utils.util import *\n",
    "from PIL import Image\n",
    "from torchvision import transforms, utils\n",
    "device = torch.device(\"cuda\" if torch.cuda.is_available() else \"cpu\")\n",
    "\n",
    "aug = transforms.Compose(\n",
    "            [transforms.ToPILImage(),\n",
    "             transforms.RandomHorizontalFlip(),\n",
    "             ])\n",
    "\n",
    "width = 128\n",
    "convas_area = width * width\n",
    "\n",
    "img_train = []\n",
    "img_test = []\n",
    "train_num = 0\n",
    "test_num = 0\n",
    "\n",
    "class Paint:\n",
    "    def __init__(self, batch_size, max_step):\n",
    "        self.batch_size = batch_size\n",
    "        self.max_step = max_step\n",
    "        self.action_space = (13)\n",
    "        self.observation_space = (self.batch_size, width, width, 7)\n",
    "        self.test = False\n",
    "        \n",
    "    def load_data(self):\n",
    "        # CelebA\n",
    "        global train_num, test_num\n",
    "        for i in range(200000):\n",
    "            img_id = '%06d' % (i + 1)\n",
    "            try:\n",
    "                img = cv2.imread('./data/img_align_celeba/' + img_id + '.jpg', cv2.IMREAD_UNCHANGED)\n",
    "                img = cv2.resize(img, (width, width))\n",
    "                if i > 2000:                \n",
    "                    train_num += 1\n",
    "                    img_train.append(img)\n",
    "                else:\n",
    "                    test_num += 1\n",
    "                    img_test.append(img)\n",
    "            finally:\n",
    "                if (i + 1) % 10000 == 0:                    \n",
    "                    print('loaded {} images'.format(i + 1))\n",
    "        print('finish loading data, {} training images, {} testing images'.format(str(train_num), str(test_num)))\n",
    "        \n",
    "    def pre_data(self, id, test):\n",
    "        if test:\n",
    "            img = img_test[id]\n",
    "        else:\n",
    "            img = img_train[id]\n",
    "        if not test:\n",
    "            img = aug(img)\n",
    "        img = np.asarray(img)\n",
    "        return np.transpose(img, (2, 0, 1))\n",
    "    \n",
    "    def reset(self, test=False, begin_num=False):\n",
    "        self.test = test\n",
    "        self.imgid = [0] * self.batch_size\n",
    "        self.gt = torch.zeros([self.batch_size, 3, width, width], dtype=torch.uint8).to(device)\n",
    "        for i in range(self.batch_size):\n",
    "            if test:\n",
    "                id = (i + begin_num)  % test_num\n",
    "            else:\n",
    "                id = np.random.randint(train_num)\n",
    "            self.imgid[i] = id\n",
    "            self.gt[i] = torch.tensor(self.pre_data(id, test))\n",
    "        self.tot_reward = ((self.gt.float() / 255) ** 2).mean(1).mean(1).mean(1)\n",
    "        self.stepnum = 0\n",
    "        self.canvas = torch.zeros([self.batch_size, 3, width, width], dtype=torch.uint8).to(device)\n",
    "        self.lastdis = self.ini_dis = self.cal_dis()\n",
    "        return self.observation()\n",
    "    \n",
    "    def observation(self):\n",
    "        # canvas B * 3 * width * width\n",
    "        # gt B * 3 * width * width\n",
    "        # T B * 1 * width * width\n",
    "        ob = []\n",
    "        T = torch.ones([self.batch_size, 1, width, width], dtype=torch.uint8) * self.stepnum\n",
    "        return torch.cat((self.canvas, self.gt, T.to(device)), 1) # canvas, img, T\n",
    "\n",
    "    def cal_trans(self, s, t):\n",
    "        return (s.transpose(0, 3) * t).transpose(0, 3)\n",
    "    \n",
    "    def step(self, action):\n",
    "        self.canvas = (decode(action, self.canvas.float() / 255) * 255).byte()\n",
    "        self.stepnum += 1\n",
    "        ob = self.observation()\n",
    "        done = (self.stepnum == self.max_step)\n",
    "        reward = self.cal_reward() # np.array([0.] * self.batch_size)\n",
    "        return ob.detach(), reward, np.array([done] * self.batch_size), None\n",
    "\n",
    "    def cal_dis(self):\n",
    "        return (((self.canvas.float() - self.gt.float()) / 255) ** 2).mean(1).mean(1).mean(1)\n",
    "    \n",
    "    def cal_reward(self):\n",
    "        dis = self.cal_dis()\n",
    "        reward = (self.lastdis - dis) / (self.ini_dis + 1e-8)\n",
    "        self.lastdis = dis\n",
    "        return to_numpy(reward)\n"
   ]
  },
  {
   "cell_type": "code",
   "execution_count": 0,
   "metadata": {
    "colab": {},
    "colab_type": "code",
    "id": "0kwVmo6yv1w3"
   },
   "outputs": [],
   "source": [
    "!python3 baseline/train.py --max_step=200 --debug --batch_size=96"
   ]
  }
 ],
 "metadata": {
  "accelerator": "GPU",
  "colab": {
   "include_colab_link": true,
   "name": "learningtopaint.ipynb",
   "provenance": [],
   "version": "0.3.2"
  },
  "kernelspec": {
   "display_name": "Python 3 (ipykernel)",
   "language": "python",
   "name": "python3"
  },
  "language_info": {
   "codemirror_mode": {
    "name": "ipython",
    "version": 3
   },
   "file_extension": ".py",
   "mimetype": "text/x-python",
   "name": "python",
   "nbconvert_exporter": "python",
   "pygments_lexer": "ipython3",
   "version": "3.9.13"
  }
 },
 "nbformat": 4,
 "nbformat_minor": 1
}
