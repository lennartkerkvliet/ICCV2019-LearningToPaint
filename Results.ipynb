{
 "cells": [
  {
   "cell_type": "code",
   "execution_count": 271,
   "id": "2a5c2d6d",
   "metadata": {},
   "outputs": [],
   "source": [
    "from cairosvg import svg2png\n",
    "from io import BytesIO\n",
    "from os import listdir\n",
    "from PIL import Image\n",
    "from subprocess import DEVNULL, STDOUT, check_call\n",
    "from tqdm import tqdm\n",
    "from skimage.metrics import structural_similarity as ssim\n",
    "from skimage.metrics import mean_squared_error as mse\n",
    "import matplotlib.pyplot as plt \n",
    "import matplotlib\n",
    "import numpy as np\n",
    "import re"
   ]
  },
  {
   "cell_type": "code",
   "execution_count": null,
   "id": "47000128",
   "metadata": {},
   "outputs": [],
   "source": [
    "matplotlib.use(\"pgf\")\n",
    "matplotlib.rcParams.update({\n",
    "    \"pgf.texsystem\": \"pdflatex\",\n",
    "    'font.family': 'serif',\n",
    "    'text.usetex': True,\n",
    "    'pgf.rcfonts': False,\n",
    "})"
   ]
  },
  {
   "cell_type": "code",
   "execution_count": null,
   "id": "5852cc0a",
   "metadata": {},
   "outputs": [],
   "source": [
    "def svg_to_image(string, scale=1):\n",
    "    image = svg2png(bytestring=string, write_to=None, scale=scale)\n",
    "    return Image.open(BytesIO(image))    \n",
    "\n",
    "def aspect_fit(image, size=(128, 128)):\n",
    "    width, height = image.size\n",
    "    x = (size[0] - width) // 2\n",
    "    y = (size[1] - height) // 2\n",
    "    box = (x, y, width + x, height + y)\n",
    "\n",
    "    background = Image.new(\"RGB\", size, (255, 255, 255))\n",
    "    background.paste(image, box=box, mask=image.convert(\"RGBA\"))\n",
    "    return background"
   ]
  },
  {
   "cell_type": "code",
   "execution_count": null,
   "id": "f7da76d9",
   "metadata": {},
   "outputs": [],
   "source": [
    "def atof(text):\n",
    "    try:\n",
    "        retval = float(text)\n",
    "    except ValueError:\n",
    "        retval = text\n",
    "    return retval\n",
    "\n",
    "def natural_keys(text):\n",
    "    return [atof(c) for c in re.split(r'[+-]?([0-9]+(?:[.][0-9]*)?|[.][0-9]+)', text)]"
   ]
  },
  {
   "cell_type": "code",
   "execution_count": 288,
   "id": "dd4e592d",
   "metadata": {},
   "outputs": [],
   "source": [
    "def calculate_loss(file, actor=\"actor.pkl\", corner_radius=True, black_and_white=False):\n",
    "    original = open(file).read().encode('utf-8')\n",
    "    original_img = svg_to_image(original)    \n",
    "    scale1 = 128 / max(original_img.size)\n",
    "    scale2 = 1024 / max(original_img.size)\n",
    "    \n",
    "    img = svg_to_image(original, scale=scale1)\n",
    "    aspect_fit(img, size=(128, 128)).save(\"input.png\", \"PNG\")\n",
    "    \n",
    "    cr = ['--corner_radius'] if corner_radius else []\n",
    "    file = 'baseline_bw/test.py' if black_and_white else 'baseline/test.py'\n",
    "    \n",
    "    check_call(\n",
    "        ['python3', file, '--max_step=100', '--actor=' + actor, '--img=input.png'] + cr, \n",
    "        stdout=DEVNULL, \n",
    "        stderr=STDOUT\n",
    "    )\n",
    "    \n",
    "    directory = 'output/'\n",
    "    \n",
    "    img_scaled = svg_to_image(original, scale=scale2)\n",
    "    img_scaled = np.asarray(aspect_fit(img_scaled, size=(1024, 1024)))\n",
    "    \n",
    "    svg = open(directory + 'vector_generated249.svg').read().encode('utf-8')\n",
    "    generated = svg_to_image(svg, scale=8).convert(\"RGBA\")\n",
    "    \n",
    "    res = Image.new(\"RGB\", (1024, 1024), (255, 255, 255))\n",
    "    res.paste(generated, mask=generated)\n",
    "    res = np.asarray(res)\n",
    "    \n",
    "    return mse(res, img_scaled)\n",
    "\n",
    "#     loss = []\n",
    "#     for filename in sorted(listdir(directory), key=natural_keys):\n",
    "#         if not filename.endswith('svg'):\n",
    "#             continue\n",
    "\n",
    "#         svg = open(directory + filename).read().encode('utf-8')\n",
    "#         generated = svg_to_image(svg, scale=8).convert(\"RGBA\")\n",
    "\n",
    "#         res = Image.new(\"RGB\", (1024, 1024), (255, 255, 255))\n",
    "#         res.paste(generated, mask=generated)\n",
    "#         res = np.asarray(res)\n",
    "\n",
    "#         loss.append(mse(res, img_scaled))\n",
    "#     return np.array(loss)"
   ]
  },
  {
   "cell_type": "code",
   "execution_count": 289,
   "id": "46c6424f",
   "metadata": {},
   "outputs": [],
   "source": [
    "logos = listdir('logos/')[:50]"
   ]
  },
  {
   "cell_type": "code",
   "execution_count": 276,
   "id": "bf13451c",
   "metadata": {},
   "outputs": [
    {
     "name": "stderr",
     "output_type": "stream",
     "text": [
      "dirs: 100%|██████████████████████████████████████████████████████████████████████████████████████████████████████████████████████| 50/50 [27:49<00:00, 33.39s/it]\n"
     ]
    }
   ],
   "source": [
    "loss = []\n",
    "for filename in tqdm(logos, desc='dirs'):\n",
    "    if not filename.endswith('svg'):\n",
    "        continue\n",
    "    \n",
    "    loss.append(calculate_loss('logos/' + filename))"
   ]
  },
  {
   "cell_type": "code",
   "execution_count": 277,
   "id": "9fb9b22e",
   "metadata": {},
   "outputs": [
    {
     "name": "stderr",
     "output_type": "stream",
     "text": [
      "dirs: 100%|██████████████████████████████████████████████████████████████████████████████████████████████████████████████████████| 50/50 [28:25<00:00, 34.11s/it]\n"
     ]
    }
   ],
   "source": [
    "loss_a = []\n",
    "for filename in tqdm(logos, desc='dirs'):\n",
    "    if not filename.endswith('svg'):\n",
    "        continue\n",
    "    \n",
    "    loss_a.append(calculate_loss('logos/' + filename, \"actor_a.pkl\", False))"
   ]
  },
  {
   "cell_type": "code",
   "execution_count": 290,
   "id": "5c728259",
   "metadata": {},
   "outputs": [
    {
     "name": "stdout",
     "output_type": "stream",
     "text": [
      "1237.432013156179\n",
      "1416.7285468274436\n"
     ]
    }
   ],
   "source": [
    "print(np.mean(loss))\n",
    "print(np.mean(loss_a))"
   ]
  },
  {
   "cell_type": "code",
   "execution_count": 292,
   "id": "1a0a6272",
   "metadata": {},
   "outputs": [
    {
     "name": "stdout",
     "output_type": "stream",
     "text": [
      "879.5029771041868\n",
      "1069.098226922353\n"
     ]
    }
   ],
   "source": [
    "print(np.mean(loss, axis=0)[-1])\n",
    "print(np.mean(loss_a, axis=0)[-1])"
   ]
  },
  {
   "cell_type": "code",
   "execution_count": 281,
   "id": "79ebe082",
   "metadata": {},
   "outputs": [
    {
     "data": {
      "image/png": "[encoded data removed]",
      "text/plain": [
       "<Figure size 230.4x187.2 with 1 Axes>"
      ]
     },
     "metadata": {
      "needs_background": "light"
     },
     "output_type": "display_data"
    }
   ],
   "source": [
    "loss1_b = np.array(loss)\n",
    "loss1_a = np.array(loss_a)\n",
    "\n",
    "# mean = loss_a.mean(axis=0)\n",
    "# stdev = np.std(loss, axis=0)\n",
    "\n",
    "plt.figure(figsize=(3.2, 2.6))\n",
    "\n",
    "plt.plot(loss1_a.mean(axis=0), label='Brush A')\n",
    "plt.plot(loss1_b.mean(axis=0), label='Brush B')\n",
    "\n",
    "plt.legend()\n",
    "plt.yscale('log')\n",
    "\n",
    "plt.ylabel(\"MSE\")\n",
    "plt.xlabel(\"Steps\")\n",
    "plt.savefig('x_icons.pgf', bbox_inches='tight')\n",
    "#plt.fill_between(x, mean - stdev, mean + stdev, alpha=0.30)"
   ]
  },
  {
   "cell_type": "code",
   "execution_count": 285,
   "id": "be325ab6",
   "metadata": {},
   "outputs": [
    {
     "name": "stderr",
     "output_type": "stream",
     "text": [
      "dirs: 100%|████████████████████████████████████████████████████████████████████████████████████████████████████████████████████| 150/150 [23:48<00:00,  9.52s/it]"
     ]
    },
    {
     "name": "stdout",
     "output_type": "stream",
     "text": [
      "Model A: 2142.696227911357\n",
      "Model B: 2014.6746721503973\n"
     ]
    },
    {
     "name": "stderr",
     "output_type": "stream",
     "text": [
      "\n"
     ]
    }
   ],
   "source": [
    "illustrations_a = []\n",
    "illustrations_b = []\n",
    "for filename in tqdm(listdir('illustrations/')[:150], desc='dirs'):\n",
    "    if not filename.endswith('svg'):\n",
    "        continue\n",
    "    \n",
    "    illustrations_b.append(calculate_loss('illustrations/' + filename))\n",
    "    illustrations_a.append(calculate_loss('illustrations/' + filename, \"actor_a.pkl\", False))\n",
    "    \n",
    "print(\"Model A:\", np.mean(illustrations_a))\n",
    "print(\"Model B:\", np.mean(illustrations_b))"
   ]
  },
  {
   "cell_type": "code",
   "execution_count": 293,
   "id": "9cdf5f20",
   "metadata": {},
   "outputs": [],
   "source": [
    "def calculate_loss2(file, actor=\"actor.pkl\", corner_radius=True, black_and_white=False):\n",
    "    img = Image.open(file)\n",
    "    img_scaled = Image.open(file.replace(\".png\", \"_scaled.png\"))\n",
    "    img_scaled = np.asarray(img_scaled)\n",
    "    \n",
    "    cr = ['--corner_radius'] if corner_radius else []\n",
    "    pyfile = 'baseline_bw/test.py' if black_and_white else 'baseline/test.py'\n",
    "    \n",
    "    check_call(\n",
    "        ['python3', pyfile, '--max_step=100', '--actor=' + actor, '--img=' + file] + cr, \n",
    "            stdout=DEVNULL, \n",
    "            stderr=STDOUT\n",
    "    )\n",
    "    \n",
    "    directory = 'output/'\n",
    "    \n",
    "#     svg = open(directory + 'vector_generated249.svg').read().encode('utf-8')\n",
    "#     generated = svg_to_image(svg, scale=8).convert(\"RGBA\")\n",
    "    \n",
    "#     res = Image.new(\"RGB\", (1024, 1024), (255, 255, 255))\n",
    "#     res.paste(generated, mask=generated)\n",
    "#     res = np.asarray(res)\n",
    "    \n",
    "#     return mse(res, img_scaled)\n",
    "\n",
    "    res = Image.new(\"RGB\", (1024, 1024), (255, 255, 255))\n",
    "    res = np.asarray(res)\n",
    "\n",
    "    loss = []\n",
    "    for filename in sorted(listdir(directory), key=natural_keys):\n",
    "        if not filename.endswith('svg'):\n",
    "            continue\n",
    "\n",
    "        svg = open(directory + filename).read().encode('utf-8')\n",
    "        generated = svg_to_image(svg, scale=8).convert(\"RGBA\")\n",
    "\n",
    "        res = Image.new(\"RGB\", (1024, 1024), (255, 255, 255))\n",
    "        res.paste(generated, mask=generated)\n",
    "        res = np.asarray(res)\n",
    "\n",
    "        loss.append(mse(res, img_scaled))\n",
    "    return np.array(loss)"
   ]
  },
  {
   "cell_type": "code",
   "execution_count": 287,
   "id": "d7d0b018",
   "metadata": {},
   "outputs": [
    {
     "name": "stderr",
     "output_type": "stream",
     "text": [
      "dirs: 100%|████████████████████████████████████████████████████████████████████████████████████████████████████████████████████| 150/150 [09:58<00:00,  3.99s/it]"
     ]
    },
    {
     "name": "stdout",
     "output_type": "stream",
     "text": [
      "Model A: 934.5524839825104\n",
      "Model B: 863.4535653579637\n"
     ]
    },
    {
     "name": "stderr",
     "output_type": "stream",
     "text": [
      "\n"
     ]
    }
   ],
   "source": [
    "icons_a = []\n",
    "icons_b = []\n",
    "for filename in tqdm(listdir('img_iconator_test/')[:150], desc='dirs'):\n",
    "    if not filename.endswith('.png') or filename.endswith('_scaled.png'):\n",
    "        continue\n",
    "    \n",
    "    icons_b.append(calculate_loss2('img_iconator_test/' + filename))\n",
    "    icons_a.append(calculate_loss2('img_iconator_test/' + filename, \"actor_a.pkl\", False))\n",
    "    \n",
    "print(\"Model A:\", np.mean(icons_a))\n",
    "print(\"Model B:\", np.mean(icons_b))"
   ]
  },
  {
   "cell_type": "code",
   "execution_count": 306,
   "id": "02663bfd",
   "metadata": {},
   "outputs": [
    {
     "name": "stderr",
     "output_type": "stream",
     "text": [
      "dirs: 100%|██████████████████████████████████████████████████████████████████████████████████████████████████████████████████████| 50/50 [11:23<00:00, 13.67s/it]"
     ]
    },
    {
     "name": "stdout",
     "output_type": "stream",
     "text": [
      "Model: 3724.29294391187\n",
      "Model A: 11758.389385953607\n",
      "Model B: 11728.489200441996\n"
     ]
    },
    {
     "name": "stderr",
     "output_type": "stream",
     "text": [
      "\n"
     ]
    }
   ],
   "source": [
    "iconsbw = []\n",
    "# iconsbw_a = []\n",
    "# iconsbw_b = []\n",
    "for filename in tqdm(listdir('bw_iconator_test/')[:50], desc='dirs'):\n",
    "    if not filename.endswith('.png') or filename.endswith('_scaled.png'):\n",
    "        continue\n",
    "    \n",
    "    iconsbw.append(calculate_loss2('bw_iconator_test/' + filename, \"actor_bw2.pkl\", black_and_white=True))\n",
    "#     iconsbw_b.append(calculate_loss2('bw_iconator_test/' + filename))\n",
    "#     iconsbw_a.append(calculate_loss2('bw_iconator_test/' + filename, \"actor_a.pkl\", False))\n",
    "    \n",
    "print(\"Model:\", np.mean(iconsbw))\n",
    "print(\"Model A:\", np.mean(iconsbw_a))\n",
    "print(\"Model B:\", np.mean(iconsbw_b))"
   ]
  },
  {
   "cell_type": "code",
   "execution_count": 262,
   "id": "08a1711d",
   "metadata": {},
   "outputs": [
    {
     "data": {
      "image/png": "[encoded data removed]",
      "text/plain": [
       "<Figure size 432x288 with 1 Axes>"
      ]
     },
     "metadata": {
      "needs_background": "light"
     },
     "output_type": "display_data"
    }
   ],
   "source": [
    "loss = np.array(iconsbw)\n",
    "plt.plot(loss.mean(axis=0))\n",
    "plt.savefig('test1234.pgf', bbox_inches='tight')"
   ]
  },
  {
   "cell_type": "code",
   "execution_count": 307,
   "id": "b51ccd79",
   "metadata": {},
   "outputs": [
    {
     "name": "stdout",
     "output_type": "stream",
     "text": [
      "Model: 2765.5928934415183\n",
      "Model A: 890.5338964462279\n",
      "Model B: 872.7258044746187\n"
     ]
    },
    {
     "data": {
      "image/png": "[encoded data removed]",
      "text/plain": [
       "<Figure size 230.4x187.2 with 1 Axes>"
      ]
     },
     "metadata": {
      "needs_background": "light"
     },
     "output_type": "display_data"
    }
   ],
   "source": [
    "loss_b = np.array(iconsbw_b)[:,:250]\n",
    "loss_a = np.array(iconsbw_a)[:,:250]\n",
    "loss = np.array(iconsbw)[:,:250]\n",
    "\n",
    "print(\"Model:\", loss.mean(axis=0)[-1])\n",
    "print(\"Model A:\", loss_a.mean(axis=0)[-1])\n",
    "print(\"Model B:\", loss_b.mean(axis=0)[-1])\n",
    "\n",
    "# mean = loss_a.mean(axis=0)\n",
    "# stdev = np.std(loss, axis=0)\n",
    "\n",
    "plt.figure(figsize=(3.2, 2.6))\n",
    "\n",
    "plt.plot(loss_a.mean(axis=0), label='Brush A (color)')\n",
    "plt.plot(loss_b.mean(axis=0), label='Brush B (color)')\n",
    "plt.plot(loss.mean(axis=0), label='Brush B')\n",
    "\n",
    "plt.legend()\n",
    "plt.yscale('log')\n",
    "\n",
    "plt.ylabel(\"MSE\")\n",
    "plt.xlabel(\"Steps\")\n",
    "plt.savefig('icons_bw_mse.pgf', bbox_inches='tight')\n",
    "#plt.fill_between(x, mean - stdev, mean + stdev, alpha=0.30)"
   ]
  },
  {
   "cell_type": "code",
   "execution_count": null,
   "id": "5e750a3f",
   "metadata": {},
   "outputs": [],
   "source": [
    "x = np.linspace(1, 250, 249)\n",
    "\n",
    "# loss_a = np.array(iconsbw_a)[:,1:]\n",
    "# loss_b = np.array(iconsbw_b)[:,1:]\n",
    "\n",
    "plt.figure(figsize=(3.2, 2.6))\n",
    "\n",
    "# plt.plot(x, loss_a.mean(axis=0), label='Brush A')\n",
    "# plt.plot(x, loss_b.mean(axis=0), label='Brush B')\n",
    "\n",
    "plt.legend()\n",
    "\n",
    "plt.ylabel(\"MSE\")\n",
    "plt.xlabel(\"Steps\")\n",
    "plt.savefig('icons_bw.pgf', bbox_inches='tight')"
   ]
  },
  {
   "cell_type": "code",
   "execution_count": null,
   "id": "ad549de0",
   "metadata": {},
   "outputs": [],
   "source": [
    "for x in loss_a[10:16]:\n",
    "    plt.plot(x)\n",
    "    \n",
    "plt.show()"
   ]
  },
  {
   "cell_type": "code",
   "execution_count": null,
   "id": "6e953552",
   "metadata": {},
   "outputs": [],
   "source": [
    "plt.savefig('histogram.pgf')"
   ]
  },
  {
   "cell_type": "code",
   "execution_count": null,
   "id": "52caedaa",
   "metadata": {},
   "outputs": [],
   "source": [
    "import json\n",
    "\n",
    "f = open('potrace_color.json', \"r\")\n",
    "\n",
    "loss2 = np.array(json.loads(f.read()))\n",
    "x = np.linspace(3, 32, 29)\n",
    "\n",
    "plt.figure(figsize=(4.0, 3.2))\n",
    "\n",
    "plt.plot(x, loss2.mean(axis=0))\n",
    "plt.ylabel(\"MSE\")\n",
    "plt.xlabel(\"$N$ (Number of colors)\")\n",
    "plt.savefig('potrace_color.pgf', bbox_inches='tight')"
   ]
  },
  {
   "cell_type": "code",
   "execution_count": null,
   "id": "344fee80",
   "metadata": {},
   "outputs": [],
   "source": [
    "k = Image.open(\"kanker.png\").convert('L')\n",
    "k_scaled = Image.open(\"k2.png\").convert('L')\n",
    "\n",
    "k = np.asarray(k)\n",
    "k_scaled = np.asarray(k_scaled)\n",
    "((k - k_scaled) ** 2).mean()"
   ]
  },
  {
   "cell_type": "code",
   "execution_count": null,
   "id": "c329422c",
   "metadata": {},
   "outputs": [],
   "source": [
    "empty = Image.new(\"L\", (1024, 1024), 255)\n",
    "empty = np.asarray(empty)\n",
    "\n",
    "((empty - k_scaled) ** 2).mean()"
   ]
  },
  {
   "cell_type": "code",
   "execution_count": null,
   "id": "4f66f7f0",
   "metadata": {},
   "outputs": [],
   "source": []
  }
 ],
 "metadata": {
  "kernelspec": {
   "display_name": "Python 3 (ipykernel)",
   "language": "python",
   "name": "python3"
  },
  "language_info": {
   "codemirror_mode": {
    "name": "ipython",
    "version": 3
   },
   "file_extension": ".py",
   "mimetype": "text/x-python",
   "name": "python",
   "nbconvert_exporter": "python",
   "pygments_lexer": "ipython3",
   "version": "3.9.13"
  }
 },
 "nbformat": 4,
 "nbformat_minor": 5
}
